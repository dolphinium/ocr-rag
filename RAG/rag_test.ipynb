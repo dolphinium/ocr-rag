{
 "cells": [
  {
   "cell_type": "code",
   "execution_count": 1,
   "metadata": {},
   "outputs": [
    {
     "name": "stdout",
     "output_type": "stream",
     "text": [
      "FAISS index and metadata loaded successfully! ✅\n"
     ]
    }
   ],
   "source": [
    "import faiss\n",
    "import json\n",
    "import openai\n",
    "import numpy as np\n",
    "from IPython.display import display, Markdown\n",
    "from dotenv import load_dotenv\n",
    "import os\n",
    "\n",
    "load_dotenv()\n",
    "\n",
    "API_KEY = os.environ.get(\"OPENAI_API_KEY\")\n",
    "\n",
    "# Set your OpenAI API Key\n",
    "openai.api_key = API_KEY\n",
    "\n",
    "# Define paths\n",
    "faiss_index_file = \"faiss_index.bin\"\n",
    "metadata_file = \"metadata.json\"\n",
    "\n",
    "# Load FAISS index\n",
    "embedding_dim = 1536  # OpenAI text-embedding-ada-002 output size\n",
    "index = faiss.IndexFlatL2(embedding_dim)\n",
    "index = faiss.read_index(faiss_index_file)\n",
    "\n",
    "# Load metadata\n",
    "with open(metadata_file, \"r\", encoding=\"utf-8\") as f:\n",
    "    metadata = json.load(f)\n",
    "\n",
    "print(\"FAISS index and metadata loaded successfully! ✅\")"
   ]
  },
  {
   "cell_type": "code",
   "execution_count": 19,
   "metadata": {},
   "outputs": [],
   "source": [
    "# Function to generate embeddings using OpenAI\n",
    "def get_embedding(text):\n",
    "    response = openai.Embedding.create(\n",
    "        model=\"text-embedding-ada-002\",\n",
    "        input=text\n",
    "    )\n",
    "    return np.array(response[\"data\"][0][\"embedding\"], dtype=np.float32)\n",
    "\n",
    "# Function to search FAISS and retrieve relevant text\n",
    "def search_faiss(query, top_k=5):\n",
    "    query_embedding = get_embedding(query)\n",
    "    query_vector = np.array([query_embedding], dtype=np.float32)\n",
    "\n",
    "    # Perform similarity search\n",
    "    distances, indices = index.search(query_vector, top_k)\n",
    "\n",
    "    results = []\n",
    "    for idx in indices[0]:\n",
    "        if str(idx) in metadata:\n",
    "            results.append(metadata[str(idx)][\"text\"])\n",
    "\n",
    "    return results\n",
    "\n",
    "# Function to ask OpenAI GPT with retrieved context\n",
    "def ask_openai(query, top_k=5, model=\"gpt-4o-mini\"):\n",
    "    # Retrieve relevant text\n",
    "    retrieved_chunks = search_faiss(query, top_k)\n",
    "\n",
    "    if not retrieved_chunks:\n",
    "        return \"No relevant context found.\"\n",
    "\n",
    "    # Format retrieved text\n",
    "    context = \"\\n\\n\".join(retrieved_chunks)\n",
    "    print(\"CONTEXT:\", context)\n",
    "    # Query OpenAI GPT with retrieved context\n",
    "    response = openai.ChatCompletion.create(\n",
    "        model=model,\n",
    "        messages=[\n",
    "            {\"role\": \"system\", \"content\": \"You are a helpful assistant answering questions based on a book.\"},\n",
    "            {\"role\": \"user\", \"content\": f\"Here is some context:\\n{context}\\n\\nAnswer my question: {query}\"}\n",
    "        ]\n",
    "    )\n",
    "\n",
    "    return response[\"choices\"][0][\"message\"][\"content\"]\n"
   ]
  },
  {
   "cell_type": "code",
   "execution_count": 27,
   "metadata": {},
   "outputs": [
    {
     "name": "stdout",
     "output_type": "stream",
     "text": [
      "CONTEXT: damlaları kendini belli etmeye başlıyordu: Hayri'nin terledigini fark eden babası elini alnına koyup: (6 'Hayri hasta mısın? Atesin mi çıktı acaba; terlemeye basladın:\" dedi. Hayri bunu firsat bilerek: Akzun 182/ Hayal Odası rüya düşün- gece geçti. koyup göz tabağını Hayri: çok çok dinç diye gün hep Hay- hep 3gd,\n",
      "\n",
      "gibi kendi etrafinda bir tur atıp: Hayri, geldi. gibi annesi çantadan Hayri'nin tarını yere yerine yıkadı. pek mıydım? yaşında gülünce geçme! şurada:\"\n",
      "\n",
      "feldiklerinde Hayri; kulağinı ve annesi bu yüzdene misafirleri ge- gitmişti. Babası Hayri sürük- teyze arkasını teyze. diye teyze an- Hayri diye katip Ahmet Ahmet Evin kapısının önüne kapıya içeriyi lecekti dinledi. Bugün alışverişe Tugba Akgun I44| Hayal Odasi\n",
      "\n",
      "\"Sen bakma onlara; gerçekten sunumun Bir gün toplanalım; bana şu hayalini ayrıntılı anlat. mu?\" \"Olur; tabii.. 1) dedi Hayri. Ödevine birilerinin vermesi hoşuna gitmişti. Sercan'ın yaptığı fedakar- Iık da gözünden kaçmamıştı. Yol boyu şakalaşıp gülü- şerek ilerlediler. Sabah alamadıkları bomba kurabiyele- ri almak için pastaneye girdiler. Her biri evde aileleriyle yemek için beşer tane bomba kurabiye aldı. geçip sokağın köşesine gelince herkes kendi evinin lunu tuttu. Yo- dayri apartmanın önüne geldiğinde kimseyi göre- medi Mırnav; mutfak penceresinden ışıl ışıl ona kuyruğunu miskince sallıyordu: gözleriyle bir iki kere Mırnav'la Hayri; cama çıkardı. sIasttg ndIrnavkasınelam keleca Donahtarin met amcanın sesini duydu. gelen Doktor Ah- kür ederdur Haysi ben de gireyim: Hah;- nasılsın? Tatil de 0 teşek- yaklaşıyor: \"İyiyim. sağ ol. bir haftamız kaldı.\" bir planın var mı?\" bu soruya çaktı yapacağını düşün- zihninde şimşekler harikaydı. Olur değer çok Pastaneyi bakıp tiklatip Kapıyı \"Dur kapama; Ahmet amca, Evet; \"Yazın Hayri kadar tatilde memişti ama ne soruyu duyar duymaz\n",
      "\n",
      "BATMIŞ HAYALLER sabahlarının verdiği sevinç ve rahatlık- açtı Hayri. Mevsimin yaza doğru ilerlemesi la biriydi:. Çünkü hava ısındıkça ev en yapabileceği birçok yaramazlık yeri daha doğ: alanı ortaya çıkıyordu. Ah bir de sıcak ha - terletmeseydi . Yataktan; yorganını tekmeleyerek aşağı kadaruins sonra Güzelce giyinip çantasına Jules kitaplarını attı ve kahvaltı için mutfağa gecti; 'in oturuyor, her hafta sonu olduğu gibi masada Aamealtıyı babası hazırlıyordu: Hayri; mis gibi omlet yaptım; Onun ko- \"Günaydınn aegii mis %ive Oabasi övuntrkeavinne;- kusuna devirerek başını iki yana salladı Hayriakiı si bayilıyordu: Hatta bazen ortahğı Snntatoate afarma baytayordus matarini zzatyorad kızıştırıyor ve atıp: Annesi ağzına bir parça Hazırlan- Hayrican; bir yere mi 'Hivrole haaiyr diye sordu. mış gibi biraz hava alacağım. \"Evet; sahildeki gidip Hem şu verdiğin kitaplara da göz 8 A çok iyi fikir, biz de meseleyi kalıp bu 'Olmaz anne; benim çözmem lazım: diye bilmiş bir karar karsı- babası bu Hatta bu Hayri. Anne ve de itiraz bir sinda şaşırmış bile siendinesitiraız edilmeme durumuna inanamadı . SUYA sonu Hafta gözlerini şeylerden sevdiği dışında eğlence rusu valar çıktı. dirdikten Verne' Annesi gözlerini\n"
     ]
    },
    {
     "data": {
      "text/markdown": [
       "### ❓ **Question:** Hayri fırından ne alır?"
      ],
      "text/plain": [
       "<IPython.core.display.Markdown object>"
      ]
     },
     "metadata": {},
     "output_type": "display_data"
    },
    {
     "data": {
      "text/markdown": [
       "### 💡 **Answer:** Hayri, fırından almak için \"bomba kurabiyeleri\" alır. Her biri evde aileleriyle yemek için beşer tane bomba kurabiye almıştır."
      ],
      "text/plain": [
       "<IPython.core.display.Markdown object>"
      ]
     },
     "metadata": {},
     "output_type": "display_data"
    }
   ],
   "source": [
    "query = \"Hayri fırından ne alır?\"  # Example question\n",
    "answer = ask_openai(query)\n",
    "\n",
    "# Display results in Markdown format (Jupyter Notebook)\n",
    "display(Markdown(f\"### ❓ **Question:** {query}\"))\n",
    "display(Markdown(f\"### 💡 **Answer:** {answer}\"))"
   ]
  },
  {
   "cell_type": "code",
   "execution_count": null,
   "metadata": {},
   "outputs": [],
   "source": []
  }
 ],
 "metadata": {
  "kernelspec": {
   "display_name": "ocr_rag",
   "language": "python",
   "name": "python3"
  },
  "language_info": {
   "codemirror_mode": {
    "name": "ipython",
    "version": 3
   },
   "file_extension": ".py",
   "mimetype": "text/x-python",
   "name": "python",
   "nbconvert_exporter": "python",
   "pygments_lexer": "ipython3",
   "version": "3.10.16"
  }
 },
 "nbformat": 4,
 "nbformat_minor": 2
}
