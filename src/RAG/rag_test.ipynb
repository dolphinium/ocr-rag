{
 "cells": [
  {
   "cell_type": "code",
   "execution_count": 1,
   "metadata": {},
   "outputs": [
    {
     "name": "stdout",
     "output_type": "stream",
     "text": [
      "FAISS index and metadata loaded successfully! ✅\n"
     ]
    }
   ],
   "source": [
    "import faiss\n",
    "import json\n",
    "import openai\n",
    "import numpy as np\n",
    "from IPython.display import display, Markdown\n",
    "from dotenv import load_dotenv\n",
    "import os\n",
    "\n",
    "load_dotenv()\n",
    "\n",
    "API_KEY = os.environ.get(\"OPENAI_API_KEY\")\n",
    "\n",
    "# Set your OpenAI API Key\n",
    "openai.api_key = API_KEY\n",
    "\n",
    "# Define paths\n",
    "faiss_index_file = \"./indexes-n-metadata/faiss_index_2.bin\"\n",
    "metadata_file = \"./indexes-n-metadata/metadata_2.json\"\n",
    "\n",
    "# Load FAISS index\n",
    "embedding_dim = 1536  # OpenAI text-embedding-ada-002 output size\n",
    "index = faiss.IndexFlatL2(embedding_dim)\n",
    "index = faiss.read_index(faiss_index_file)\n",
    "\n",
    "# Load metadata\n",
    "with open(metadata_file, \"r\", encoding=\"utf-8\") as f:\n",
    "    metadata = json.load(f)\n",
    "\n",
    "print(\"FAISS index and metadata loaded successfully! ✅\")"
   ]
  },
  {
   "cell_type": "code",
   "execution_count": 2,
   "metadata": {},
   "outputs": [],
   "source": [
    "# Function to generate embeddings using OpenAI\n",
    "def get_embedding(text):\n",
    "    response = openai.Embedding.create(\n",
    "        model=\"text-embedding-ada-002\",\n",
    "        input=text\n",
    "    )\n",
    "    return np.array(response[\"data\"][0][\"embedding\"], dtype=np.float32)\n",
    "\n",
    "# Function to search FAISS and retrieve relevant text\n",
    "def search_faiss(query, top_k=5):\n",
    "    query_embedding = get_embedding(query)\n",
    "    query_vector = np.array([query_embedding], dtype=np.float32)\n",
    "\n",
    "    # Perform similarity search\n",
    "    distances, indices = index.search(query_vector, top_k)\n",
    "\n",
    "    results = []\n",
    "    for idx in indices[0]:\n",
    "        if str(idx) in metadata:\n",
    "            results.append(metadata[str(idx)][\"text\"])\n",
    "\n",
    "    return results\n",
    "\n",
    "# Function to ask OpenAI GPT with retrieved context\n",
    "def ask_openai(query, top_k=5, model=\"gpt-4o-mini\"):\n",
    "    # Retrieve relevant text\n",
    "    retrieved_chunks = search_faiss(query, top_k)\n",
    "\n",
    "    if not retrieved_chunks:\n",
    "        return \"No relevant context found.\"\n",
    "\n",
    "    # Format retrieved text\n",
    "    context = \"\\n\\n\".join(retrieved_chunks)\n",
    "    print(\"CONTEXT:\", context)\n",
    "    # Query OpenAI GPT with retrieved context\n",
    "    response = openai.ChatCompletion.create(\n",
    "        model=model,\n",
    "        messages=[\n",
    "            {\"role\": \"system\", \"content\": \"You are a helpful assistant answering questions based on a book.\"},\n",
    "            {\"role\": \"user\", \"content\": f\"Here is some context:\\n{context}\\n\\nAnswer my question: {query}\"}\n",
    "        ]\n",
    "    )\n",
    "\n",
    "    return response[\"choices\"][0][\"message\"][\"content\"]\n"
   ]
  },
  {
   "cell_type": "code",
   "execution_count": 29,
   "metadata": {},
   "outputs": [
    {
     "name": "stdout",
     "output_type": "stream",
     "text": [
      "CONTEXT: SU UYUR DÜŞMAN UYUMAZ Baskin Rusların bir tuzağıydı. Bizim askerin zaaflarından fay- dalanmışlardı. Çünkü bizim ordu, Köprüköyü'nden hareket ettiği sırada, Rusların birkaç alay süvarisi ve bir süvari bataryası tarafın- dan takip edilmekteymiş. Bizimkiler bunu ya hesap edememişler a da boş vermişlerdi. Oysa atalarımız ne demiştir: \"Su uyur düş- uyumaz!\" Hele ki böylesi bir savaş hâlinde. ya man Rus kurmay subayları, bizim askerin Hasankale Kasabası'nın içine birer ikişer dağılacaklarını tahmin ederek bir kısım süvarisini kasaba etrafında karakol olarak bırakmış ve yoluna devam etmiş. Kurt İsmail Paşa, böyle bir tuzağa düşme ihtimaline karşı birlik- lere erlerin Hasankale'ye yaklaşmamalarını, belirlenen güzergâhtan ayrılmamalarını, güvenlik tedbirlerine dikkat göstermelerini bil- dirmesine rağmen erler izinsiz ilçeye girmiş, mola vermiş ve ateş yakmışlardı. Bu durumu tespit eden düşman süvarisi, yakında bulunan ufa- cık bir tepeye toplarını çıkararak bizim üzerimize gülleleri salıver- 57\n",
      "\n",
      "Nöbetçi heyecan içinde elindeki tüfeği karanlığa yöneltmiş karşı- sindaki birkaç karartıya geçit verip vermemekte tereddüt yaşıyordu: \"Gecenin bu vaktine neden kaldınız? Rusların arasından nasıl geçtiniz?\" derken olan biteni anlamaya çalışıyordu. Karanlıktaki ses: \"Biz artçılarız, Rusların arasından zorla geçtik. Bu yüzden bu saatlere kaldık. Canımızı zor kurtardık. Aç ve yorgunuz. Çavuş- lardan kim var? Onları çağır, bizi tanırlar. Birkaç arkadaş bu sa- atte ancak buraya ulaşabildik. Yol ver geçelim, donmak üzereyiz.\" Bu arada arkadaki iki kişi çok üşümüş numarası yaparak bir- birlerine tutunmaya çalışmaktaydılar. D \"Hem arkadaşımız yaralı, çok da kan kaybetti. Hadi kurban ol- duğum, bu saatte kim cesaret edebilir buralara gelmeye?\" Nöbetçinin endişesi azalmıştı: \"Biraz yaklaş, yüzünü göreyim.\" dedi. Ve karanlıkta yaklaşan asker kıyafetli yabancıyı tepeden tırnağa süzdü. Tüfeğini indirdi. \"Peki, geçin bakayım... Fazla gürültü etmeyin. Öndeki asker kı- yafetli Ermeni yavaş yavaş geçerken arkadakilere gelin işareti yaptı: \"Sağ olasın ağam! Neredeyse donacaktık. Bu iyiliğini hiç unut- mayacağız. Gelin arkadaşlar.\" diyerek arkaya doğru işaret yaptı. Di- ğer iki kişi yürümeye\n",
      "\n",
      "şeydir ki kahramanlık da korkaklık da bulaşıcıdır. Şu hâlde, çoluk çocuk içinde savaşmak asker için her türlü etkiye sebep olabilirdi. Bir de, zaten ahlâkı bozulmuş olan bazı askerler siperlerde tu- o da firar ederlerse hâlimiz ne olurdu. Çünkü düşman da, disiplinli askeriyle beraber serseri asker kullanmaktadır. Bunlar bir kere şehre girer, memleketin içine dağılır ve yağmaya koyulup tunamayıp rzlara tasalluta cesaret ederlerse, önlerini kim alacaktı. Allah korusun, öyle bir zamanda çıkması tabii olan karışıklığın doğuracağı sonuçları düşünen Kumandan Paşa'nın kalbi, memle- ketin ve askerin geleceği için türlü türlü endişelerin yeri oluyordu. Bu sebeple Kumandan Paşa, tabyaların hemen şehrin yanı başında yapılmış olmasını her fırsatta eleştirmiş ve tehlikeli bulmuştu. Bu düşüncesini daha savaş başlamadan Erzurum'a geldiğinde, Kire- mitlik Tepe'de ifade etmişti. Ve o tehlike işte şimdi ortaya çıkmıştı. Ahmet Muhtar Paşa, muharebelerin halktan uzak ve açık yer- lerde yapılmasını; savunma mevzilerinin mutlaka yolların birleş- tiği açık yerlerde olmasını ve yerleşim yerlerinden uzakta olması gerektiğini düşünüyordu. Ama artık iş işten geçmişti. Erzurum tabyaları ve istihkâmları vaktiyle\n",
      "\n",
      "BASKIN Yarbay Bahri Bey uzandığı yatağında uyuyamamıştı. İçi huzur- suzdu. Kalktı, masadaki gaz lambasının ışığını artırdı. Duvarda asılı silah takımını aldı ve palaskasını beline doladı. Dışarıdaki nöbet- çiyi çağırdı: \"Nöbetçi! Nöbetçi! Neredesin oğlum, yoksa uyudun mu? Hey nöbetçi!\" Kapı açıldı ve nöbetçi içeri girdi. Selam verdi. Esas duruşta ge- cenin bu saatinde kendisini çağıran komutanın yüzüne merakla bakmaya başladı. \"Emredin komutanım!\" Bahri Bey iç huzursuzluğu ile: \"Ses versene evladım yoksa uyudun mu?\" Nöbetçi başını yana eğerek: \"Hayır komutanım! Ancak sesinizi duyabildim. Böyle bir günde, düşman burnumuzun dibinde iken uyunur mu?\" 143\n",
      "\n",
      "Aziziye Zaferi yaptığınız hücumda şimdiye kadar gösterdiğinizden daha büyük fedakârlık ve cesareti bundan sonra da göstermenizi bekliyorum. Düşman şu tepelerin ardında, yorgun ve yılgın. Yarının ne olaca- ğını Allah bilir. Daha zor günler hastalığıyla, açlığıyla, yokluğuyla bizleri bekliyor. Ama ben inanıyorum ki siz bunları da yenecek imana ve inanca sahipsiziniz. Bu toprakları düşmana yar etme- yeceksiniz. Başında bulunduğum siz kahramanların kalplerinde kökleşen bu eşsiz zafer imanı kökünden kazınmadıkça ve en genç dadaştan en ihtiyarına kadar kadını erkeği bütün Erzurumlular ina- niyorum ki tek kurşunları ve tek kolları kalıncaya kadar bu müba- rek vatanı son dağına, son köyüne ve en son kaya parçasına kadar karış karış müdafaa etmekten geri durmayacaklardır. Bugünler gayret günüdür. Hamiyet gösterme sırası, erlik za- manı ve mertlik demidir. Vatan sizinle övünüp gurur duyacaktır. Şimdi sizden bir kere daha dadaşlara yakışır şöhretinizi doğrulaya- cak mertlik bekliyorum. Şimdi evlerinize dönünüz, yaralarınızı sa- rınız, sizleri bekleyenleri sevindiriniz. Şehitlerimizin hanımlarına, çocuklarına, geride kalanlarına kol kanat geriniz. Birlik ve dirliği- nizi bozmayınız. Bozguncu seslere kulak asmayınız. Biz askerle\n"
     ]
    },
    {
     "data": {
      "text/markdown": [
       "### ❓ **Question:** \n",
       "\"Su uyur, düşman uyumaz.\"\n",
       "\n",
       "Kitapta geçen bu atasözü aşağıdakilerden hangisini öğütlemektedir?\n",
       "\n",
       "A) Tehlikeye karşı harekete geçmeyi\n",
       "\n",
       "B) Kimsenin sözüne güvenmemeyi\n",
       "\n",
       "C) Sıkıntıları görmezden gelmemeyi\n",
       "\n",
       "D) Düşmana karşı uyanık olmayı\n"
      ],
      "text/plain": [
       "<IPython.core.display.Markdown object>"
      ]
     },
     "metadata": {},
     "output_type": "display_data"
    },
    {
     "data": {
      "text/markdown": [
       "### 💡 **Answer:** \"Su uyur, düşman uyumaz.\" atasözü, düşmanın her an saldırıya geçebileceği ve bu nedenle dikkatli olunması gerektiğini vurgular. Bu bağlamda, doğru cevap:\n",
       "\n",
       "**D) Düşmana karşı uyanık olmayı**"
      ],
      "text/plain": [
       "<IPython.core.display.Markdown object>"
      ]
     },
     "metadata": {},
     "output_type": "display_data"
    }
   ],
   "source": [
    "query = \"\"\"\n",
    "\"Su uyur, düşman uyumaz.\"\n",
    "\n",
    "Kitapta geçen bu atasözü aşağıdakilerden hangisini öğütlemektedir?\n",
    "\n",
    "A) Tehlikeye karşı harekete geçmeyi\n",
    "\n",
    "B) Kimsenin sözüne güvenmemeyi\n",
    "\n",
    "C) Sıkıntıları görmezden gelmemeyi\n",
    "\n",
    "D) Düşmana karşı uyanık olmayı\n",
    "\"\"\"  \n",
    "answer = ask_openai(query)\n",
    "\n",
    "# Display results in Markdown format (Jupyter Notebook)\n",
    "display(Markdown(f\"### ❓ **Question:** {query}\"))\n",
    "display(Markdown(f\"### 💡 **Answer:** {answer}\"))"
   ]
  }
 ],
 "metadata": {
  "kernelspec": {
   "display_name": "ocr_rag",
   "language": "python",
   "name": "python3"
  },
  "language_info": {
   "codemirror_mode": {
    "name": "ipython",
    "version": 3
   },
   "file_extension": ".py",
   "mimetype": "text/x-python",
   "name": "python",
   "nbconvert_exporter": "python",
   "pygments_lexer": "ipython3",
   "version": "3.10.16"
  }
 },
 "nbformat": 4,
 "nbformat_minor": 2
}
